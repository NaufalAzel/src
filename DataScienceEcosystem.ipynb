{
 "cells": [
  {
   "cell_type": "markdown",
   "id": "c5815dcf-7e65-4694-b404-4b9139b158f2",
   "metadata": {
    "tags": []
   },
   "source": [
    "# Data Science Tools and Ecosystem"
   ]
  },
  {
   "cell_type": "markdown",
   "id": "e1df1459-3ada-4a03-92be-243fddf68baf",
   "metadata": {},
   "source": [
    "In this notebook, Data Science Tools and Ecosystem are summarized."
   ]
  },
  {
   "cell_type": "markdown",
   "id": "f3aa4f32-71a1-4188-a923-546edbee4f42",
   "metadata": {},
   "source": [
    "**Objectives:**\n",
    "\n",
    "* List popular languages for Data Science.\n",
    "* Explain the importance of data visualization.\n",
    "* Introduce Jupyter Notebooks and Markdown.\n",
    "* Create code cells and Markdown cells in Jupyter.\n",
    "* Perform basic arithmetic operations in Python.\n"
   ]
  },
  {
   "cell_type": "markdown",
   "id": "6b2f0d91-ce89-4942-9a0e-a698950e9e27",
   "metadata": {},
   "source": [
    "Some of the popular languages that Data Scientists use are:\n",
    "1. python\n",
    "2. R\n",
    "3. SQL\n",
    "4. Java\n",
    "5. Julia"
   ]
  },
  {
   "cell_type": "markdown",
   "id": "644b2e12-3d12-405b-8ab3-b0c59d8546fd",
   "metadata": {},
   "source": [
    "Some of the popular languages that Data Scientists use are:\n",
    "1. python\n",
    "2. R\n",
    "3. SQL\n",
    "4. Java\n",
    "5. Julia"
   ]
  },
  {
   "cell_type": "markdown",
   "id": "63cdf27f-f87b-467c-8f02-f351611b001a",
   "metadata": {
    "tags": []
   },
   "source": [
    "Some of the commonly used libraries used by Data Scientists include:\n",
    "\n",
    "1. TensorFlow\n",
    "2. NumPy\n",
    "3. SciPy\n",
    "4. Pandas\n"
   ]
  },
  {
   "cell_type": "markdown",
   "id": "48301ee2-da4d-40f3-a8b5-c472afd09222",
   "metadata": {},
   "source": [
    "Some of the commonly used libraries used by Data Scientists include:\n",
    "\n",
    "1. TensorFlow\n",
    "2. NumPy\n",
    "3. SciPy\n",
    "4. Pandas\n"
   ]
  },
  {
   "cell_type": "markdown",
   "id": "676dba5b-b564-4537-b83b-3d2e3b00ba62",
   "metadata": {},
   "source": [
    "| Data Science Tools |\n",
    "|--------------------|\n",
    "| Jupyter Notebook   |\n",
    "| RStudio            |\n",
    "| BigML |\n"
   ]
  },
  {
   "cell_type": "markdown",
   "id": "1a63245b-fcc4-4320-94cc-b7d7babe341a",
   "metadata": {},
   "source": [
    "| Data Science Tools |\n",
    "|--------------------|\n",
    "| Jupyter Notebook   |\n",
    "| RStudio            |\n",
    "| BigML |\n"
   ]
  },
  {
   "cell_type": "markdown",
   "id": "e285a04a-c590-47af-a643-ab3a7dd8a1ff",
   "metadata": {},
   "source": [
    "### Below are a few examples of evaluating arithmetic expressions in Python.\n"
   ]
  },
  {
   "cell_type": "code",
   "execution_count": 3,
   "id": "2df4c831-3cea-4274-ba17-f7edde216360",
   "metadata": {
    "tags": []
   },
   "outputs": [
    {
     "data": {
      "text/plain": [
       "9"
      ]
     },
     "execution_count": 3,
     "metadata": {},
     "output_type": "execute_result"
    }
   ],
   "source": [
    "\n",
    "code = compile(\"5 + 4\", \"<string>\", \"eval\")\n",
    "eval(code)\n"
   ]
  },
  {
   "cell_type": "code",
   "execution_count": 4,
   "id": "448a94e7-c81f-4c62-9576-c258f75c2919",
   "metadata": {
    "tags": []
   },
   "outputs": [
    {
     "data": {
      "text/plain": [
       "24"
      ]
     },
     "execution_count": 4,
     "metadata": {},
     "output_type": "execute_result"
    }
   ],
   "source": [
    "code1 = compile(\"(5 + 7) * 2\", \"<string>\", \"eval\")\n",
    "eval(code1)\n",
    "# Result: 24"
   ]
  },
  {
   "cell_type": "code",
   "execution_count": 5,
   "id": "0fe2cda6-f657-4796-b506-6a180f66b4c2",
   "metadata": {
    "tags": []
   },
   "outputs": [
    {
     "data": {
      "text/plain": [
       "65449.84694978735"
      ]
     },
     "execution_count": 5,
     "metadata": {},
     "output_type": "execute_result"
    }
   ],
   "source": [
    "import math\n",
    "# Volume of a sphere\n",
    "code2 = compile(\"4 / 3 * math.pi * math.pow(25, 3)\", \"<string>\", \"eval\")\n",
    "eval(code2)\n",
    "# Result: 65449.84694978735"
   ]
  },
  {
   "cell_type": "markdown",
   "id": "3960c202-3502-46b6-baba-e1a3460cea4b",
   "metadata": {},
   "source": [
    "this is a simple arithmetic expression to multiply then add integers.\n"
   ]
  },
  {
   "cell_type": "code",
   "execution_count": 6,
   "id": "1fe8393f-df42-4fa6-b12a-3062dcf1f430",
   "metadata": {
    "tags": []
   },
   "outputs": [
    {
     "name": "stdout",
     "output_type": "stream",
     "text": [
      "17\n"
     ]
    }
   ],
   "source": [
    "result = (3*4)+5\n",
    "print(result)\n"
   ]
  },
  {
   "cell_type": "markdown",
   "id": "feb3a4a5-516c-460e-bda8-217f29200067",
   "metadata": {},
   "source": [
    "This will convert 200 minutes to hours by diving by 60"
   ]
  },
  {
   "cell_type": "code",
   "execution_count": 7,
   "id": "d18a2f7f-de84-43c8-a6d8-d84f3318dd33",
   "metadata": {
    "tags": []
   },
   "outputs": [
    {
     "name": "stdout",
     "output_type": "stream",
     "text": [
      "3.3333333333333335\n"
     ]
    }
   ],
   "source": [
    "minutes = 200\n",
    "hours = minutes / 60\n",
    "print(hours)"
   ]
  },
  {
   "cell_type": "markdown",
   "id": "0c167211-96a9-43a7-b972-4cf150d5e51e",
   "metadata": {},
   "source": [
    "## Author\n",
    "Naufal Azel Muzakkiy"
   ]
  },
  {
   "cell_type": "code",
   "execution_count": null,
   "id": "a1474f0b-e22a-448d-9d8f-2d37d0f91175",
   "metadata": {},
   "outputs": [],
   "source": []
  }
 ],
 "metadata": {
  "kernelspec": {
   "display_name": "Python",
   "language": "python",
   "name": "conda-env-python-py"
  },
  "language_info": {
   "codemirror_mode": {
    "name": "ipython",
    "version": 3
   },
   "file_extension": ".py",
   "mimetype": "text/x-python",
   "name": "python",
   "nbconvert_exporter": "python",
   "pygments_lexer": "ipython3",
   "version": "3.7.12"
  }
 },
 "nbformat": 4,
 "nbformat_minor": 5
}
